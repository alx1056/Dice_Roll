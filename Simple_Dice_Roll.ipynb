{
  "nbformat": 4,
  "nbformat_minor": 0,
  "metadata": {
    "colab": {
      "name": "Simple_Dice_Roll.ipynb",
      "provenance": [],
      "collapsed_sections": [],
      "authorship_tag": "ABX9TyOJxdrmEU+fm4Vbbb9C+4bP",
      "include_colab_link": true
    },
    "kernelspec": {
      "name": "python3",
      "display_name": "Python 3"
    }
  },
  "cells": [
    {
      "cell_type": "markdown",
      "metadata": {
        "id": "view-in-github",
        "colab_type": "text"
      },
      "source": [
        "<a href=\"https://colab.research.google.com/github/alx1056/Dice_Roll/blob/main/Simple_Dice_Roll.ipynb\" target=\"_parent\"><img src=\"https://colab.research.google.com/assets/colab-badge.svg\" alt=\"Open In Colab\"/></a>"
      ]
    },
    {
      "cell_type": "code",
      "metadata": {
        "id": "euwk27CjFwXD"
      },
      "source": [
        "import math\r\n",
        "from random import *"
      ],
      "execution_count": 5,
      "outputs": []
    },
    {
      "cell_type": "code",
      "metadata": {
        "colab": {
          "base_uri": "https://localhost:8080/"
        },
        "id": "v4ACHTlSF4vE",
        "outputId": "651260a8-6aab-4f5c-dc88-4bd990f43ecd"
      },
      "source": [
        "maxn = 6\r\n",
        "minn = 1\r\n",
        "\r\n",
        "print(\"Welcome to the Dice roll game!\")\r\n",
        "\r\n",
        "count = 0\r\n",
        "\r\n",
        "ans = 'Y'\r\n",
        "while ans == 'Y' or ans == 'y' or ans == 'Yes' or ans == 'yes':\r\n",
        "    print(\"\\n\")\r\n",
        "    roll1 = randint(minn, maxn)\r\n",
        "    roll2 = randint(minn, maxn)\r\n",
        "    print(\"You rolled a \" + str(roll1) + \" and a \" + str(roll2))\r\n",
        "    ans = input(\"Would you like to try and beat your score of: \" + str(roll1 + roll2) + \", Please enter Y or N: \")\r\n",
        "    count = count + 1\r\n",
        "print(\"\\n\")\r\n",
        "print(\"You played a total of \" + str(count) + \" Games!\")\r\n",
        "print(\"\\n\")\r\n",
        "print(\"Thanks for playing!\")"
      ],
      "execution_count": 12,
      "outputs": [
        {
          "output_type": "stream",
          "text": [
            "Welcome to the Dice roll game!\n",
            "\n",
            "\n",
            "You rolled a 6 and a 6\n",
            "Would you like to try and beat your score of: 12, Please enter Y or N: y\n",
            "\n",
            "\n",
            "You rolled a 4 and a 6\n",
            "Would you like to try and beat your score of: 10, Please enter Y or N: y\n",
            "\n",
            "\n",
            "You rolled a 6 and a 4\n",
            "Would you like to try and beat your score of: 10, Please enter Y or N: y\n",
            "\n",
            "\n",
            "You rolled a 3 and a 4\n",
            "Would you like to try and beat your score of: 7, Please enter Y or N: n\n",
            "\n",
            "\n",
            "You played a total of 4 Games!\n",
            "\n",
            "\n",
            "Thanks for playing!\n"
          ],
          "name": "stdout"
        }
      ]
    }
  ]
}